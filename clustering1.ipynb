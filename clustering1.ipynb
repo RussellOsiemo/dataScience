{
  "nbformat": 4,
  "nbformat_minor": 0,
  "metadata": {
    "colab": {
      "provenance": []
    },
    "kernelspec": {
      "name": "python3",
      "display_name": "Python 3"
    },
    "language_info": {
      "name": "python"
    }
  },
  "cells": [
    {
      "cell_type": "markdown",
      "source": [
        "# **An Introduction to Clustering Algorithms in Python**\n",
        "In data science, we often think about how to use data to make predictions on new data points. This is called “supervised learning.” Sometimes, however, rather than ‘making predictions’, we instead want to categorize data into buckets. This is termed “unsupervised learning.”\n",
        "\n",
        "To illustrate the difference, let’s say we’re at a major pizza chain and we’ve been tasked with creating a feature in the order management software that will predict delivery times for customers. In order to achieve this, we are given a dataset that has delivery times, distances traveled, day of week, time of day, staff on hand, and volume of sales for several deliveries in the past. From this data, we can make predictions on future delivery times. This is a good example of supervised learning.\n",
        "\n",
        "Now, let’s say the pizza chain wants to send out targeted coupons to customers. It wants to segment its customers into 4 groups: large families, small families, singles, and college students. We are given prior ordering data (e.g. size of order, price, frequency, etc) and we’re tasked with putting each customer into one of the four buckets. This would be an example of “unsupervised learning” since we’re not making predictions; we’re merely categorizing the customers into groups.\n",
        "\n",
        "Clustering is one of the most frequently utilized forms of unsupervised learning. In this article, we’ll explore two of the most common forms of clustering: k-means and hierarchical.\n",
        "\n",
        "# Understanding the K-Means Clustering Algorithm\n",
        "\n",
        "Let’s look at how k-means clustering works. First, let me introduce you to my good friend, blobby; i.e. the make_blobs function in Python’s sci-kit learn library. We’ll create four random clusters using make_blobs to aid in our task."
      ],
      "metadata": {
        "id": "wiFojpQC6JoX"
      }
    },
    {
      "cell_type": "code",
      "source": [
        "# import statements\n",
        "from sklearn.datasets import make_blobs\n",
        "import numpy as np\n",
        "import matplotlib.pyplot as plt\n",
        "# create blobs \n",
        "data = make_blobs(n_samples = 200, n_features= 2, centers= 4, cluster_std=1.6, random_state=50)\n",
        "\n",
        "# create np array for data points \n",
        "points = data[0]\n",
        "\n",
        "# create scatter plot\n",
        "plt.scatter(data[0][:,0], data[0][:,1], c= data[1], cmap = 'viridis')\n",
        "plt.xlim(-15,15)\n",
        "plt.ylim(-15, 15)"
      ],
      "metadata": {
        "colab": {
          "base_uri": "https://localhost:8080/",
          "height": 286
        },
        "id": "u7AcJuOV6cn4",
        "outputId": "34078e18-15df-431a-96fe-9a5f862301cf"
      },
      "execution_count": 4,
      "outputs": [
        {
          "output_type": "execute_result",
          "data": {
            "text/plain": [
              "(-15.0, 15.0)"
            ]
          },
          "metadata": {},
          "execution_count": 4
        },
        {
          "output_type": "display_data",
          "data": {
            "text/plain": [
              "<Figure size 432x288 with 1 Axes>"
            ],
            "image/png": "[encoded data removed]"
          },
          "metadata": {
            "needs_background": "light"
          }
        }
      ]
    },
    {
      "cell_type": "markdown",
      "source": [
        "# **Implementing K-Means Clustering in Python**\n",
        "\n",
        "To run k-means in Python, we’ll need to import KMeans from sci-kit learn."
      ],
      "metadata": {
        "id": "ZnWwQNul9Us8"
      }
    },
    {
      "cell_type": "code",
      "source": [
        "# import KMeans\n",
        "from sklearn.cluster import KMeans\n",
        "\n",
        "# create kmeans object\n",
        "kmeans = KMeans(n_clusters =4)\n",
        "\n",
        "# fit kmeans object to data\n",
        "kmeans.fit(points)\n",
        "# print location of clusters learned by kmeans object\n",
        "print(kmeans.cluster_centers_)\n",
        "\n",
        "# save new clusters for chart \n",
        "y_km = kmeans.fit_predict(points)\n",
        "\n",
        "#running the code in matplotlib\n",
        "plt.scatter(points[y_km ==0,0], points[y_km == 0,1], s=100, c='red')\n",
        "plt.scatter(points[y_km ==1,0], points[y_km == 1,1], s=100, c='black')\n",
        "plt.scatter(points[y_km ==2,0], points[y_km == 2,1], s=100, c='blue')\n",
        "plt.scatter(points[y_km ==3,0], points[y_km == 3,1], s=100, c='cyan')"
      ],
      "metadata": {
        "colab": {
          "base_uri": "https://localhost:8080/",
          "height": 352
        },
        "id": "WhZqFvo79W6b",
        "outputId": "a65f724b-9e5d-4390-92e2-07349a9a050d"
      },
      "execution_count": 6,
      "outputs": [
        {
          "output_type": "stream",
          "name": "stdout",
          "text": [
            "[[-2.40167949 10.17352695]\n",
            " [ 0.05161133 -5.35489826]\n",
            " [-1.92101646  5.21673484]\n",
            " [-5.56465793 -2.34988939]]\n"
          ]
        },
        {
          "output_type": "execute_result",
          "data": {
            "text/plain": [
              "<matplotlib.collections.PathCollection at 0x7f9d3a291e10>"
            ]
          },
          "metadata": {},
          "execution_count": 6
        },
        {
          "output_type": "display_data",
          "data": {
            "text/plain": [
              "<Figure size 432x288 with 1 Axes>"
            ],
            "image/png": "[encoded data removed]"
          },
          "metadata": {
            "needs_background": "light"
          }
        }
      ]
    },
    {
      "cell_type": "markdown",
      "source": [
        "K-means is the most frequently used form of clustering due to its speed and simplicity. Another very common clustering method is hierarchical clustering."
      ],
      "metadata": {
        "id": "SMKFp7Aq_Lx5"
      }
    },
    {
      "cell_type": "markdown",
      "source": [
        "# Implementing Agglomerative Hierarchical Clustering\n",
        "\n",
        "Agglomerative hierarchical clustering differs from k-means in a key way. Rather than choosing a number of clusters and starting out with random centroids, we instead begin with every point in our dataset as a “cluster.” Then we find the two closest points and combine them into a cluster. Then, we find the next closest points, and those become a cluster. We repeat the process until we only have one big giant cluster.\n",
        "\n",
        "Along the way, we create what’s called a dendrogram. This is our “history.” You can see the dendrogram for our data points below to get a sense of what’s happening.\n",
        "\n",
        "Let’s see how agglomerative hierarchical clustering works in Python. First, let’s import the necessary libraries from scipy.cluster.hierarchy and sklearn.clustering."
      ],
      "metadata": {
        "id": "XCUz4w_s_OoF"
      }
    },
    {
      "cell_type": "code",
      "source": [
        "# import hierarchical clustering libraries\n",
        "import scipy.cluster.hierarchy as sch\n",
        "from sklearn.cluster import AgglomerativeClustering\n",
        "\n",
        "# create dendogram\n",
        "dendrogram = sch.dendrogram(sch.linkage(points, method='ward'))\n",
        "\n",
        "# create clusters\n",
        "hc = AgglomerativeClustering(n_clusters=4, affinity = 'euclidean', linkage = 'ward')\n",
        "\n",
        "# save cluster for chart \n",
        "y_hc = hc.fit_predict(points)\n",
        "\n",
        "# plot using matplotlib\n",
        "plt.scatter(points[y_hc ==0,0], points[y_hc == 0,1], s=100, c='red')\n",
        "plt.scatter(points[y_hc==1,0], points[y_hc == 1,1], s=100, c='black')\n",
        "plt.scatter(points[y_hc ==2,0], points[y_hc == 2,1], s=100, c='blue')\n",
        "plt.scatter(points[y_hc ==3,0], points[y_hc == 3,1], s=100, c='cyan')"
      ],
      "metadata": {
        "colab": {
          "base_uri": "https://localhost:8080/",
          "height": 284
        },
        "id": "blaT4aEu_ixQ",
        "outputId": "fd5b6722-433d-4ac7-943f-8adc3b66b17a"
      },
      "execution_count": 10,
      "outputs": [
        {
          "output_type": "execute_result",
          "data": {
            "text/plain": [
              "<matplotlib.collections.PathCollection at 0x7f9d39023110>"
            ]
          },
          "metadata": {},
          "execution_count": 10
        },
        {
          "output_type": "display_data",
          "data": {
            "text/plain": [
              "<Figure size 432x288 with 1 Axes>"
            ],
            "image/png": "[encoded data removed]"
          },
          "metadata": {
            "needs_background": "light"
          }
        }
      ]
    },
    {
      "cell_type": "markdown",
      "source": [
        "# DBSCAN clustering \n",
        "The following are the DBSCAN clustering algorithmic steps:\n",
        "\n",
        "Step 1: Initially, the algorithms start by selecting a point (x) randomly from the data set and finding all the neighbor points within Eps from it. If the number of Eps-neighbours is greater than or equal to MinPoints, we consider x a core point. Then, with its Eps-neighbours, x forms the first cluster.\n",
        "After creating the first cluster, we examine all its member points and find their respective Eps -neighbors. If a member has at least MinPoints Eps-neighbours, we expand the initial cluster by adding those Eps-neighbours to the cluster. This continues until there are no more points to add to this cluster.\n",
        "\n",
        "Step 2: For any other core point not assigned to cluster, create a new cluster.\n",
        "\n",
        "Step 3: To the core point cluster, find and assign all points that are recursively connected to it.\n",
        "\n",
        "Step 4: Iterate through all unattended points in the dataset and assign them to the nearest cluster at Eps distance from themselves. If a point does not fit any available clusters, locate it as a noise point.\n",
        "\n",
        "Python implementation of DBSCAN\n",
        "As usual to any implementation, we get started with fetching the dataset and "
      ],
      "metadata": {
        "id": "YSdmzxp8Fraj"
      }
    },
    {
      "cell_type": "code",
      "source": [
        "# Data preprocessing \n",
        "# import libraries\n",
        "\n",
        "import numpy as np\n",
        "import matplotlib.pyplot as plt\n",
        "import pandas as pd\n",
        "data = pd.read_csv(\"/content/Mall_Customers.csv\") # importing the dataset"
      ],
      "metadata": {
        "id": "tmMOqDruHLHk"
      },
      "execution_count": 13,
      "outputs": []
    },
    {
      "cell_type": "code",
      "source": [
        "# Exploratory data analysis\n",
        "# check head of data \n",
        "data.head()"
      ],
      "metadata": {
        "colab": {
          "base_uri": "https://localhost:8080/",
          "height": 206
        },
        "id": "FbMQbntpHihB",
        "outputId": "c97ff9d5-c148-420a-b741-d1a492f8010f"
      },
      "execution_count": 15,
      "outputs": [
        {
          "output_type": "execute_result",
          "data": {
            "text/plain": [
              "   CustomerID   Genre  Age  Annual Income (k$)  Spending Score (1-100)\n",
              "0           1    Male   19                  15                      39\n",
              "1           2    Male   21                  15                      81\n",
              "2           3  Female   20                  16                       6\n",
              "3           4  Female   23                  16                      77\n",
              "4           5  Female   31                  17                      40"
            ],
            "text/html": [
              "\n",
              "  <div id=\"df-d39fb28d-03ed-4472-a46f-6e5623ba7f21\">\n",
              "    <div class=\"colab-df-container\">\n",
              "      <div>\n",
              "<style scoped>\n",
              "    .dataframe tbody tr th:only-of-type {\n",
              "        vertical-align: middle;\n",
              "    }\n",
              "\n",
              "    .dataframe tbody tr th {\n",
              "        vertical-align: top;\n",
              "    }\n",
              "\n",
              "    .dataframe thead th {\n",
              "        text-align: right;\n",
              "    }\n",
              "</style>\n",
              "<table border=\"1\" class=\"dataframe\">\n",
              "  <thead>\n",
              "    <tr style=\"text-align: right;\">\n",
              "      <th></th>\n",
              "      <th>CustomerID</th>\n",
              "      <th>Genre</th>\n",
              "      <th>Age</th>\n",
              "      <th>Annual Income (k$)</th>\n",
              "      <th>Spending Score (1-100)</th>\n",
              "    </tr>\n",
              "  </thead>\n",
              "  <tbody>\n",
              "    <tr>\n",
              "      <th>0</th>\n",
              "      <td>1</td>\n",
              "      <td>Male</td>\n",
              "      <td>19</td>\n",
              "      <td>15</td>\n",
              "      <td>39</td>\n",
              "    </tr>\n",
              "    <tr>\n",
              "      <th>1</th>\n",
              "      <td>2</td>\n",
              "      <td>Male</td>\n",
              "      <td>21</td>\n",
              "      <td>15</td>\n",
              "      <td>81</td>\n",
              "    </tr>\n",
              "    <tr>\n",
              "      <th>2</th>\n",
              "      <td>3</td>\n",
              "      <td>Female</td>\n",
              "      <td>20</td>\n",
              "      <td>16</td>\n",
              "      <td>6</td>\n",
              "    </tr>\n",
              "    <tr>\n",
              "      <th>3</th>\n",
              "      <td>4</td>\n",
              "      <td>Female</td>\n",
              "      <td>23</td>\n",
              "      <td>16</td>\n",
              "      <td>77</td>\n",
              "    </tr>\n",
              "    <tr>\n",
              "      <th>4</th>\n",
              "      <td>5</td>\n",
              "      <td>Female</td>\n",
              "      <td>31</td>\n",
              "      <td>17</td>\n",
              "      <td>40</td>\n",
              "    </tr>\n",
              "  </tbody>\n",
              "</table>\n",
              "</div>\n",
              "      <button class=\"colab-df-convert\" onclick=\"convertToInteractive('df-d39fb28d-03ed-4472-a46f-6e5623ba7f21')\"\n",
              "              title=\"Convert this dataframe to an interactive table.\"\n",
              "              style=\"display:none;\">\n",
              "        \n",
              "  <svg xmlns=\"http://www.w3.org/2000/svg\" height=\"24px\"viewBox=\"0 0 24 24\"\n",
              "       width=\"24px\">\n",
              "    <path d=\"M0 0h24v24H0V0z\" fill=\"none\"/>\n",
              "    <path d=\"M18.56 5.44l.94 2.06.94-2.06 2.06-.94-2.06-.94-.94-2.06-.94 2.06-2.06.94zm-11 1L8.5 8.5l.94-2.06 2.06-.94-2.06-.94L8.5 2.5l-.94 2.06-2.06.94zm10 10l.94 2.06.94-2.06 2.06-.94-2.06-.94-.94-2.06-.94 2.06-2.06.94z\"/><path d=\"M17.41 7.96l-1.37-1.37c-.4-.4-.92-.59-1.43-.59-.52 0-1.04.2-1.43.59L10.3 9.45l-7.72 7.72c-.78.78-.78 2.05 0 2.83L4 21.41c.39.39.9.59 1.41.59.51 0 1.02-.2 1.41-.59l7.78-7.78 2.81-2.81c.8-.78.8-2.07 0-2.86zM5.41 20L4 18.59l7.72-7.72 1.47 1.35L5.41 20z\"/>\n",
              "  </svg>\n",
              "      </button>\n",
              "      \n",
              "  <style>\n",
              "    .colab-df-container {\n",
              "      display:flex;\n",
              "      flex-wrap:wrap;\n",
              "      gap: 12px;\n",
              "    }\n",
              "\n",
              "    .colab-df-convert {\n",
              "      background-color: #E8F0FE;\n",
              "      border: none;\n",
              "      border-radius: 50%;\n",
              "      cursor: pointer;\n",
              "      display: none;\n",
              "      fill: #1967D2;\n",
              "      height: 32px;\n",
              "      padding: 0 0 0 0;\n",
              "      width: 32px;\n",
              "    }\n",
              "\n",
              "    .colab-df-convert:hover {\n",
              "      background-color: #E2EBFA;\n",
              "      box-shadow: 0px 1px 2px rgba(60, 64, 67, 0.3), 0px 1px 3px 1px rgba(60, 64, 67, 0.15);\n",
              "      fill: #174EA6;\n",
              "    }\n",
              "\n",
              "    [theme=dark] .colab-df-convert {\n",
              "      background-color: #3B4455;\n",
              "      fill: #D2E3FC;\n",
              "    }\n",
              "\n",
              "    [theme=dark] .colab-df-convert:hover {\n",
              "      background-color: #434B5C;\n",
              "      box-shadow: 0px 1px 3px 1px rgba(0, 0, 0, 0.15);\n",
              "      filter: drop-shadow(0px 1px 2px rgba(0, 0, 0, 0.3));\n",
              "      fill: #FFFFFF;\n",
              "    }\n",
              "  </style>\n",
              "\n",
              "      <script>\n",
              "        const buttonEl =\n",
              "          document.querySelector('#df-d39fb28d-03ed-4472-a46f-6e5623ba7f21 button.colab-df-convert');\n",
              "        buttonEl.style.display =\n",
              "          google.colab.kernel.accessAllowed ? 'block' : 'none';\n",
              "\n",
              "        async function convertToInteractive(key) {\n",
              "          const element = document.querySelector('#df-d39fb28d-03ed-4472-a46f-6e5623ba7f21');\n",
              "          const dataTable =\n",
              "            await google.colab.kernel.invokeFunction('convertToInteractive',\n",
              "                                                     [key], {});\n",
              "          if (!dataTable) return;\n",
              "\n",
              "          const docLinkHtml = 'Like what you see? Visit the ' +\n",
              "            '<a target=\"_blank\" href=https://colab.research.google.com/notebooks/data_table.ipynb>data table notebook</a>'\n",
              "            + ' to learn more about interactive tables.';\n",
              "          element.innerHTML = '';\n",
              "          dataTable['output_type'] = 'display_data';\n",
              "          await google.colab.output.renderOutput(dataTable, element);\n",
              "          const docLink = document.createElement('div');\n",
              "          docLink.innerHTML = docLinkHtml;\n",
              "          element.appendChild(docLink);\n",
              "        }\n",
              "      </script>\n",
              "    </div>\n",
              "  </div>\n",
              "  "
            ]
          },
          "metadata": {},
          "execution_count": 15
        }
      ]
    },
    {
      "cell_type": "code",
      "source": [
        "# check the shape of dataset\n",
        "\n",
        "print(\"Dataset Shape:\", data.shape)\n",
        "\n"
      ],
      "metadata": {
        "colab": {
          "base_uri": "https://localhost:8080/"
        },
        "id": "vH264GRKI1-S",
        "outputId": "69730105-175b-4bc7-9585-1142e4baff1f"
      },
      "execution_count": 16,
      "outputs": [
        {
          "output_type": "stream",
          "name": "stdout",
          "text": [
            "Dataset Shape: (200, 5)\n"
          ]
        }
      ]
    },
    {
      "cell_type": "code",
      "source": [
        "# check if dataset has missing values \n",
        "data.isnull().any().any()"
      ],
      "metadata": {
        "colab": {
          "base_uri": "https://localhost:8080/"
        },
        "id": "kyx-U7bcJQGP",
        "outputId": "12aadbd6-a94c-44f9-e840-6d1182733db0"
      },
      "execution_count": 17,
      "outputs": [
        {
          "output_type": "execute_result",
          "data": {
            "text/plain": [
              "False"
            ]
          },
          "metadata": {},
          "execution_count": 17
        }
      ]
    },
    {
      "cell_type": "code",
      "source": [
        "# extracting the above mentioned columns\n",
        "x = data.loc[:, ['Annual Income (k$)',\n",
        "                 'Spending Score (1-100)']].values\n",
        "# print shape of x\n",
        "print(x.shape)"
      ],
      "metadata": {
        "colab": {
          "base_uri": "https://localhost:8080/"
        },
        "id": "B9NXmWk5JneB",
        "outputId": "f6c579d8-f5c2-4efd-f7eb-af252e44f7be"
      },
      "execution_count": 19,
      "outputs": [
        {
          "output_type": "stream",
          "name": "stdout",
          "text": [
            "(200, 2)\n"
          ]
        }
      ]
    },
    {
      "cell_type": "markdown",
      "source": [
        "Before we apply the DBSCAN model, first, we need to obtain its two parameters.\n",
        "\n",
        "MinPoints: We can obtain the minimum number of Points to be used to recognize a cluster, as follows:\n",
        "If the dataset has two dimensions, use the min sample per cluster as 4.\n",
        "If the data has more than two dimensions, the min sample per cluster should be: Min_sample(MinPoints) = 2 * Data dimension\n",
        "Since our data is two-dimensional, we shall use the default value of 4 as our MinPoint parameter.\n",
        "\n",
        "Epsilon (Eps): To calculate the value of Eps, we shall calculate the distance between each data point to its closest neighbor using the Nearest Neighbours. After that, we sort them and finally plot them. From the plot, we identify the maximum value at the curvature of the graph. This value is our Eps.\n",
        "\n",
        "# Compute data proximity from each other using Nearest Neighbours"
      ],
      "metadata": {
        "id": "N05-c4DPKEDP"
      }
    },
    {
      "cell_type": "code",
      "source": [
        "from sklearn.neighbors import NearestNeighbors # importing the library\n",
        "neighb = NearestNeighbors(n_neighbors=2) # creating an object of the NearestNeighbors class\n",
        "nbrs=neighb.fit(x) # fitting the data to the object\n",
        "distances,indices=nbrs.kneighbors(x) # finding the nearest neighbours"
      ],
      "metadata": {
        "id": "Yf0Vrx-5KJ41"
      },
      "execution_count": 22,
      "outputs": []
    },
    {
      "cell_type": "markdown",
      "source": [
        "# Sorting and plot the distances between the data points"
      ],
      "metadata": {
        "id": "4JtRb7iwKOoI"
      }
    },
    {
      "cell_type": "code",
      "source": [
        "# Sort and plot the distances results\n",
        "\n",
        "distances = np.sort(distances, axis = 0) # sorting the distances\n",
        "distances = distances[:, 1] # taking the second column of the sorted distances\n",
        "plt.rcParams['figure.figsize'] = (5,3) # setting the figure size\n",
        "plt.plot(distances) # plotting the distances\n",
        "plt.show() # showing the plot"
      ],
      "metadata": {
        "colab": {
          "base_uri": "https://localhost:8080/",
          "height": 211
        },
        "id": "K5zXbTAmKFlK",
        "outputId": "36ad349b-6563-4dc8-b854-52702d63e871"
      },
      "execution_count": 23,
      "outputs": [
        {
          "output_type": "display_data",
          "data": {
            "text/plain": [
              "<Figure size 360x216 with 1 Axes>"
            ],
            "image/png": "[encoded data removed]"
          },
          "metadata": {
            "needs_background": "light"
          }
        }
      ]
    },
    {
      "cell_type": "markdown",
      "source": [
        "From the above plot, we note the maximum curvature of the curve is about eight, and thus we picked our Eps as 8.\n",
        "\n",
        "We now have our two parameters as:\n",
        "\n",
        "MinPoints = 4\n",
        "Eps = 8\n",
        "Now that we have the parameters let us implement the DBSCAN model."
      ],
      "metadata": {
        "id": "xyXQBbTkLavs"
      }
    },
    {
      "cell_type": "markdown",
      "source": [
        "# Implementing the DBSCAN model"
      ],
      "metadata": {
        "id": "cUofQTg0Lcuh"
      }
    },
    {
      "cell_type": "code",
      "source": [
        "from sklearn.cluster import DBSCAN\n",
        "# cluster the data into five clusters\n",
        "dbscan = DBSCAN(eps = 8, min_samples = 4).fit(x) # fitting the model\n",
        "labels = dbscan.labels_ # getting the labels"
      ],
      "metadata": {
        "id": "ZtVaHXnrLb9S"
      },
      "execution_count": 24,
      "outputs": []
    },
    {
      "cell_type": "code",
      "source": [
        "# Plot the clusters\n",
        "plt.scatter(x[:, 0], x[:,1], c = labels, cmap= \"plasma\") # plotting the clusters\n",
        "plt.xlabel(\"Income\") # X-axis label\n",
        "plt.ylabel(\"Spending Score\") # Y-axis label\n",
        "plt.show() # showing the plot"
      ],
      "metadata": {
        "colab": {
          "base_uri": "https://localhost:8080/",
          "height": 225
        },
        "id": "1IMspiBBLquJ",
        "outputId": "73f1da4c-777d-4af2-a685-9a14472f3f75"
      },
      "execution_count": 25,
      "outputs": [
        {
          "output_type": "display_data",
          "data": {
            "text/plain": [
              "<Figure size 360x216 with 1 Axes>"
            ],
            "image/png": "[encoded data removed]"
          },
          "metadata": {
            "needs_background": "light"
          }
        }
      ]
    }
  ]
}